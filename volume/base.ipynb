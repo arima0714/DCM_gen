{
 "cells": [
  {
   "cell_type": "code",
   "execution_count": 1,
   "metadata": {},
   "outputs": [
    {
     "name": "stderr",
     "output_type": "stream",
     "text": [
      "/usr/local/lib/python3.8/dist-packages/gensim/similarities/__init__.py:15: UserWarning: The gensim.similarities.levenshtein submodule is disabled, because the optional Levenshtein package <https://pypi.org/project/python-Levenshtein/> is unavailable. Install Levenhstein (e.g. `pip install python-Levenshtein`) to suppress this warning.\n",
      "  warnings.warn(msg)\n"
     ]
    }
   ],
   "source": [
    "import requests\n",
    "import re\n",
    "import os\n",
    "import time\n",
    "\n",
    "from urllib import request\n",
    "from bs4 import BeautifulSoup\n",
    "\n",
    "import glob\n",
    "import re\n",
    "from gensim.models import word2vec\n",
    "\n",
    "import math"
   ]
  },
  {
   "cell_type": "code",
   "execution_count": 5,
   "metadata": {},
   "outputs": [],
   "source": [
    "word_list = []\n",
    "\n",
    "from janome.tokenizer import Tokenizer\n",
    "t = Tokenizer()\n",
    "def extract_words(text):\n",
    "  tokens = t.tokenize(text)\n",
    "  return [token.base_form for token in tokens if token.part_of_speech.split(\",\")[0] in [\"名詞\", \"動詞\", \"形容詞\"]]"
   ]
  },
  {
   "cell_type": "code",
   "execution_count": 6,
   "metadata": {},
   "outputs": [],
   "source": [
    "for path in glob.glob(\"./data/*/*.txt\"):\n",
    "  with open(path , encoding=\"UTF-8\") as f:\n",
    "    try:\n",
    "      for s_line in f:\n",
    "        s_line = s_line.replace(\"<ruby><rb>\",\"\")\n",
    "        s_line = s_line.replace(\"</rb><rp>(</rp><rt>\",\"\")\n",
    "        s_line = s_line.replace(\"</rt><rp>(</rp></ruby>\",\"\")\n",
    "        word_list.append(extract_words(s_line))\n",
    "    except UnicodeDecodeError:\n",
    "      pass"
   ]
  },
  {
   "cell_type": "code",
   "execution_count": 7,
   "metadata": {},
   "outputs": [],
   "source": [
    "with open(\"./wordlist.txt\", mode=\"w\", encoding=\"UTF-8\") as f:\n",
    "  f.write(str(word_list))"
   ]
  },
  {
   "cell_type": "code",
   "execution_count": 8,
   "metadata": {},
   "outputs": [],
   "source": [
    "model = word2vec.Word2Vec(word_list , vector_size=100, min_count=5, window=5, epochs=100)\n",
    "model.save(\"dosukebe.model\")"
   ]
  },
  {
   "cell_type": "code",
   "execution_count": 9,
   "metadata": {},
   "outputs": [
    {
     "data": {
      "text/plain": [
       "[('お金', 0.7200292348861694),\n",
       " ('手数料', 0.6027623414993286),\n",
       " ('現金', 0.5924906134605408),\n",
       " ('財産', 0.5718393325805664),\n",
       " ('貨幣', 0.5663682222366333),\n",
       " ('費用', 0.5661934018135071),\n",
       " ('日銭', 0.5569566488265991),\n",
       " ('金額', 0.5551134943962097),\n",
       " ('多額', 0.5545421838760376),\n",
       " ('潤沢', 0.5538561344146729)]"
      ]
     },
     "execution_count": 9,
     "metadata": {},
     "output_type": "execute_result"
    }
   ],
   "source": [
    "\n",
    "model.wv.most_similar(\"金\")"
   ]
  },
  {
   "cell_type": "code",
   "execution_count": null,
   "metadata": {},
   "outputs": [],
   "source": []
  }
 ],
 "metadata": {
  "kernelspec": {
   "display_name": "Python 3",
   "language": "python",
   "name": "python3"
  },
  "language_info": {
   "codemirror_mode": {
    "name": "ipython",
    "version": 3
   },
   "file_extension": ".py",
   "mimetype": "text/x-python",
   "name": "python",
   "nbconvert_exporter": "python",
   "pygments_lexer": "ipython3",
   "version": "3.8.5"
  }
 },
 "nbformat": 4,
 "nbformat_minor": 4
}
