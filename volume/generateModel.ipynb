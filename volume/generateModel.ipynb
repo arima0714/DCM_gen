{
 "cells": [
  {
   "cell_type": "code",
   "execution_count": null,
   "id": "377a5d6c-a5ba-4262-a0e3-a388868b989b",
   "metadata": {},
   "outputs": [],
   "source": [
    "%run ./base.ipynb"
   ]
  },
  {
   "cell_type": "code",
   "execution_count": 5,
   "id": "69048c03-3d9b-4048-9dff-f8387276d308",
   "metadata": {},
   "outputs": [],
   "source": [
    "word_list = []\n",
    "\n",
    "from janome.tokenizer import Tokenizer\n",
    "t = Tokenizer()\n",
    "def extract_words(text):\n",
    "  tokens = t.tokenize(text)\n",
    "  return [token.base_form for token in tokens if token.part_of_speech.split(\",\")[0] in [\"名詞\", \"動詞\", \"形容詞\"]]"
   ]
  },
  {
   "cell_type": "code",
   "execution_count": 6,
   "id": "f3b88722-1527-4678-9dbf-87169349c148",
   "metadata": {},
   "outputs": [],
   "source": [
    "for path in glob.glob(\"./data/*/*.txt\"):\n",
    "  with open(path , encoding=\"UTF-8\") as f:\n",
    "    try:\n",
    "      for s_line in f:\n",
    "        s_line = s_line.replace(\"<ruby><rb>\",\"\")\n",
    "        s_line = s_line.replace(\"</rb><rp>(</rp><rt>\",\"\")\n",
    "        s_line = s_line.replace(\"</rt><rp>(</rp></ruby>\",\"\")\n",
    "        word_list.append(extract_words(s_line))\n",
    "    except UnicodeDecodeError:\n",
    "      pass"
   ]
  },
  {
   "cell_type": "code",
   "execution_count": 7,
   "id": "172698a6-771f-4aac-a5c3-ae685adf724b",
   "metadata": {},
   "outputs": [],
   "source": [
    "with open(\"./wordlist.txt\", mode=\"w\", encoding=\"UTF-8\") as f:\n",
    "  f.write(str(word_list))"
   ]
  },
  {
   "cell_type": "code",
   "execution_count": 8,
   "id": "bb6e5d49-b015-4c29-8466-a40cfb5427ac",
   "metadata": {},
   "outputs": [],
   "source": [
    "model = word2vec.Word2Vec(word_list , vector_size=100, min_count=5, window=5, epochs=100)\n",
    "model.save(\"dosukebe.model\")"
   ]
  }
 ],
 "metadata": {
  "kernelspec": {
   "display_name": "Python 3",
   "language": "python",
   "name": "python3"
  },
  "language_info": {
   "codemirror_mode": {
    "name": "ipython",
    "version": 3
   },
   "file_extension": ".py",
   "mimetype": "text/x-python",
   "name": "python",
   "nbconvert_exporter": "python",
   "pygments_lexer": "ipython3",
   "version": "3.8.5"
  }
 },
 "nbformat": 4,
 "nbformat_minor": 5
}
