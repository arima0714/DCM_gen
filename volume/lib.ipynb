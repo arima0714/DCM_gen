{
 "cells": [
  {
   "cell_type": "code",
   "execution_count": null,
   "id": "c1669a98-cff6-420c-bbae-00b48b81af46",
   "metadata": {},
   "outputs": [],
   "source": [
    "%run ./base.ipynb"
   ]
  },
  {
   "cell_type": "code",
   "execution_count": null,
   "id": "89113e6b-9994-4aa0-b02b-c10e0414bf32",
   "metadata": {},
   "outputs": [],
   "source": [
    "# モデルをダウンロードする関数\n",
    "# ./data/dosukebe.model が存在しなければ\n",
    "# 直書きされているURLからダウンロードを実施する。\n",
    "\n",
    "def downloadDosukebeModel():\n",
    "    import urllib.request\n",
    "    import os\n",
    "    fileName = \"./data/dosukebe.model\"\n",
    "    if(os.path.isfile(fileName) == False):\n",
    "            url = \"https://drive.google.com/file/d/1ppYITtbfVi_eboJw1BWJP5WQox0FUuaK/view?usp=sharing\"\n",
    "            urllib.request.urlretrieve(url, fileName)\n",
    "    else:\n",
    "        True\n",
    "        \n",
    "downloadDosukebeModel()"
   ]
  }
 ],
 "metadata": {
  "kernelspec": {
   "display_name": "Python 3",
   "language": "python",
   "name": "python3"
  },
  "language_info": {
   "codemirror_mode": {
    "name": "ipython",
    "version": 3
   },
   "file_extension": ".py",
   "mimetype": "text/x-python",
   "name": "python",
   "nbconvert_exporter": "python",
   "pygments_lexer": "ipython3",
   "version": "3.8.5"
  }
 },
 "nbformat": 4,
 "nbformat_minor": 5
}
