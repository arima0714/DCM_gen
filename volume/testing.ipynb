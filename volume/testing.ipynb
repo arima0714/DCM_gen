{
 "cells": [
  {
   "cell_type": "code",
   "execution_count": null,
   "id": "ed83274f-a941-44af-9008-ca9e4286bbc3",
   "metadata": {},
   "outputs": [],
   "source": [
    "%run ./base.ipynb"
   ]
  },
  {
   "cell_type": "code",
   "execution_count": null,
   "id": "c57d69e1-09ab-4006-893b-19a631504306",
   "metadata": {},
   "outputs": [],
   "source": [
    "model = word2vec.Word2Vec.load('dosukebe.model')\n",
    "model.wv.most_similar(\"金\")"
   ]
  }
 ],
 "metadata": {
  "kernelspec": {
   "display_name": "Python 3",
   "language": "python",
   "name": "python3"
  },
  "language_info": {
   "codemirror_mode": {
    "name": "ipython",
    "version": 3
   },
   "file_extension": ".py",
   "mimetype": "text/x-python",
   "name": "python",
   "nbconvert_exporter": "python",
   "pygments_lexer": "ipython3",
   "version": "3.8.5"
  }
 },
 "nbformat": 4,
 "nbformat_minor": 5
}
